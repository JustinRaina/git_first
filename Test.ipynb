{
 "cells": [
  {
   "cell_type": "code",
   "execution_count": 1,
   "metadata": {},
   "outputs": [
    {
     "name": "stdout",
     "output_type": "stream",
     "text": [
      "Hello DL\n"
     ]
    }
   ],
   "source": [
    "print('Hello DL')"
   ]
  },
  {
   "cell_type": "code",
   "execution_count": 8,
   "metadata": {},
   "outputs": [
    {
     "name": "stdout",
     "output_type": "stream",
     "text": [
      "Requirement already satisfied: flit in c:\\users\\jerrychu\\.conda\\envs\\dlcourse\\lib\\site-packages (2.3.0)\n",
      "Requirement already satisfied: pytoml in c:\\users\\jerrychu\\.conda\\envs\\dlcourse\\lib\\site-packages (from flit) (0.1.21)\n",
      "Requirement already satisfied: flit_core>=2.3.0 in c:\\users\\jerrychu\\.conda\\envs\\dlcourse\\lib\\site-packages (from flit) (2.3.0)\n",
      "Requirement already satisfied: requests in c:\\users\\jerrychu\\.conda\\envs\\dlcourse\\lib\\site-packages (from flit) (2.24.0)\n",
      "Requirement already satisfied: docutils in c:\\users\\jerrychu\\.conda\\envs\\dlcourse\\lib\\site-packages (from flit) (0.16)\n",
      "Requirement already satisfied: chardet<4,>=3.0.2 in c:\\users\\jerrychu\\.conda\\envs\\dlcourse\\lib\\site-packages (from requests->flit) (3.0.4)\n",
      "Requirement already satisfied: urllib3!=1.25.0,!=1.25.1,<1.26,>=1.21.1 in c:\\users\\jerrychu\\.conda\\envs\\dlcourse\\lib\\site-packages (from requests->flit) (1.25.10)\n",
      "Requirement already satisfied: certifi>=2017.4.17 in c:\\users\\jerrychu\\.conda\\envs\\dlcourse\\lib\\site-packages (from requests->flit) (2020.6.20)\n",
      "Requirement already satisfied: idna<3,>=2.5 in c:\\users\\jerrychu\\.conda\\envs\\dlcourse\\lib\\site-packages (from requests->flit) (2.10)\n",
      "Requirement already satisfied: twstock in c:\\users\\jerrychu\\.conda\\envs\\dlcourse\\lib\\site-packages (1.3.1)\n",
      "Requirement already satisfied: requests in c:\\users\\jerrychu\\.conda\\envs\\dlcourse\\lib\\site-packages (from twstock) (2.24.0)\n",
      "Requirement already satisfied: chardet<4,>=3.0.2 in c:\\users\\jerrychu\\.conda\\envs\\dlcourse\\lib\\site-packages (from requests->twstock) (3.0.4)\n",
      "Requirement already satisfied: urllib3!=1.25.0,!=1.25.1,<1.26,>=1.21.1 in c:\\users\\jerrychu\\.conda\\envs\\dlcourse\\lib\\site-packages (from requests->twstock) (1.25.10)\n",
      "Requirement already satisfied: idna<3,>=2.5 in c:\\users\\jerrychu\\.conda\\envs\\dlcourse\\lib\\site-packages (from requests->twstock) (2.10)\n",
      "Requirement already satisfied: certifi>=2017.4.17 in c:\\users\\jerrychu\\.conda\\envs\\dlcourse\\lib\\site-packages (from requests->twstock) (2020.6.20)\n"
     ]
    }
   ],
   "source": [
    "!pip install flit\n",
    "!pip install twstock\n",
    "!pip install lxml"
   ]
  },
  {
   "cell_type": "code",
   "execution_count": 9,
   "metadata": {},
   "outputs": [],
   "source": [
    "#https://twstock.readthedocs.io/zh_TW/latest/quickstart.html\n",
    "import twstock"
   ]
  },
  {
   "cell_type": "code",
   "execution_count": 10,
   "metadata": {},
   "outputs": [],
   "source": [
    "stock = twstock.Stock('2330')"
   ]
  },
  {
   "cell_type": "code",
   "execution_count": 11,
   "metadata": {},
   "outputs": [
    {
     "data": {
      "text/plain": [
       "'2330'"
      ]
     },
     "execution_count": 11,
     "metadata": {},
     "output_type": "execute_result"
    }
   ],
   "source": [
    "stock.sid"
   ]
  },
  {
   "cell_type": "code",
   "execution_count": 12,
   "metadata": {},
   "outputs": [
    {
     "data": {
      "text/plain": [
       "[364.0,\n",
       " 370.0,\n",
       " 361.0,\n",
       " 369.0,\n",
       " 370.0,\n",
       " 387.0,\n",
       " 386.0,\n",
       " 383.0,\n",
       " 395.0,\n",
       " 424.5,\n",
       " 466.5,\n",
       " 431.5,\n",
       " 441.0,\n",
       " 432.0,\n",
       " 424.0,\n",
       " 425.5,\n",
       " 433.5,\n",
       " 438.0,\n",
       " 434.0,\n",
       " 437.5,\n",
       " 435.0,\n",
       " 423.5,\n",
       " 429.0,\n",
       " 428.0,\n",
       " 435.0,\n",
       " 440.5,\n",
       " 436.5,\n",
       " 427.5,\n",
       " 427.0,\n",
       " 434.5,\n",
       " 436.0]"
      ]
     },
     "execution_count": 12,
     "metadata": {},
     "output_type": "execute_result"
    }
   ],
   "source": [
    "stock.high"
   ]
  },
  {
   "cell_type": "code",
   "execution_count": 30,
   "metadata": {},
   "outputs": [],
   "source": [
    "tsmc = stock.fetch_from(2020, 1)"
   ]
  },
  {
   "cell_type": "code",
   "execution_count": 14,
   "metadata": {},
   "outputs": [
    {
     "ename": "ModuleNotFoundError",
     "evalue": "No module named 'matplotlib'",
     "output_type": "error",
     "traceback": [
      "\u001b[1;31m---------------------------------------------------------------------------\u001b[0m",
      "\u001b[1;31mModuleNotFoundError\u001b[0m                       Traceback (most recent call last)",
      "\u001b[1;32m<ipython-input-14-0484cd13f94d>\u001b[0m in \u001b[0;36m<module>\u001b[1;34m\u001b[0m\n\u001b[1;32m----> 1\u001b[1;33m \u001b[1;32mimport\u001b[0m \u001b[0mmatplotlib\u001b[0m\u001b[1;33m\u001b[0m\u001b[1;33m\u001b[0m\u001b[0m\n\u001b[0m",
      "\u001b[1;31mModuleNotFoundError\u001b[0m: No module named 'matplotlib'"
     ]
    }
   ],
   "source": [
    "\n",
    "import matplotlib"
   ]
  },
  {
   "cell_type": "code",
   "execution_count": 15,
   "metadata": {},
   "outputs": [
    {
     "name": "stdout",
     "output_type": "stream",
     "text": [
      "Collecting matplotlib\n",
      "  Downloading matplotlib-3.3.1-1-cp37-cp37m-win_amd64.whl (8.9 MB)\n",
      "Requirement already satisfied: certifi>=2020.06.20 in c:\\users\\jerrychu\\.conda\\envs\\dlcourse\\lib\\site-packages (from matplotlib) (2020.6.20)\n",
      "Requirement already satisfied: numpy>=1.15 in c:\\users\\jerrychu\\.conda\\envs\\dlcourse\\lib\\site-packages (from matplotlib) (1.19.1)\n",
      "Collecting pillow>=6.2.0\n",
      "  Downloading Pillow-7.2.0-cp37-cp37m-win_amd64.whl (2.1 MB)\n",
      "Requirement already satisfied: python-dateutil>=2.1 in c:\\users\\jerrychu\\.conda\\envs\\dlcourse\\lib\\site-packages (from matplotlib) (2.8.1)\n",
      "Collecting kiwisolver>=1.0.1\n",
      "  Downloading kiwisolver-1.2.0-cp37-none-win_amd64.whl (57 kB)\n",
      "Collecting cycler>=0.10\n",
      "  Using cached cycler-0.10.0-py2.py3-none-any.whl (6.5 kB)\n",
      "Requirement already satisfied: pyparsing!=2.0.4,!=2.1.2,!=2.1.6,>=2.0.3 in c:\\users\\jerrychu\\.conda\\envs\\dlcourse\\lib\\site-packages (from matplotlib) (2.4.7)\n",
      "Requirement already satisfied: six>=1.5 in c:\\users\\jerrychu\\.conda\\envs\\dlcourse\\lib\\site-packages (from python-dateutil>=2.1->matplotlib) (1.15.0)\n",
      "Installing collected packages: pillow, kiwisolver, cycler, matplotlib\n",
      "Successfully installed cycler-0.10.0 kiwisolver-1.2.0 matplotlib-3.3.1 pillow-7.2.0\n"
     ]
    }
   ],
   "source": [
    "!pip install matplotlib"
   ]
  },
  {
   "cell_type": "code",
   "execution_count": 16,
   "metadata": {},
   "outputs": [
    {
     "name": "stdout",
     "output_type": "stream",
     "text": [
      "Collecting seaborn\n",
      "  Downloading seaborn-0.10.1-py3-none-any.whl (215 kB)\n",
      "Requirement already satisfied: numpy>=1.13.3 in c:\\users\\jerrychu\\.conda\\envs\\dlcourse\\lib\\site-packages (from seaborn) (1.19.1)\n",
      "Collecting pandas>=0.22.0\n",
      "  Downloading pandas-1.1.1-cp37-cp37m-win_amd64.whl (9.4 MB)\n",
      "Requirement already satisfied: matplotlib>=2.1.2 in c:\\users\\jerrychu\\.conda\\envs\\dlcourse\\lib\\site-packages (from seaborn) (3.3.1)\n",
      "Requirement already satisfied: scipy>=1.0.1 in c:\\users\\jerrychu\\.conda\\envs\\dlcourse\\lib\\site-packages (from seaborn) (1.5.2)\n",
      "Collecting pytz>=2017.2\n",
      "  Downloading pytz-2020.1-py2.py3-none-any.whl (510 kB)\n",
      "Requirement already satisfied: python-dateutil>=2.7.3 in c:\\users\\jerrychu\\.conda\\envs\\dlcourse\\lib\\site-packages (from pandas>=0.22.0->seaborn) (2.8.1)\n",
      "Requirement already satisfied: cycler>=0.10 in c:\\users\\jerrychu\\.conda\\envs\\dlcourse\\lib\\site-packages (from matplotlib>=2.1.2->seaborn) (0.10.0)\n",
      "Requirement already satisfied: pillow>=6.2.0 in c:\\users\\jerrychu\\.conda\\envs\\dlcourse\\lib\\site-packages (from matplotlib>=2.1.2->seaborn) (7.2.0)\n",
      "Requirement already satisfied: pyparsing!=2.0.4,!=2.1.2,!=2.1.6,>=2.0.3 in c:\\users\\jerrychu\\.conda\\envs\\dlcourse\\lib\\site-packages (from matplotlib>=2.1.2->seaborn) (2.4.7)\n",
      "Requirement already satisfied: certifi>=2020.06.20 in c:\\users\\jerrychu\\.conda\\envs\\dlcourse\\lib\\site-packages (from matplotlib>=2.1.2->seaborn) (2020.6.20)\n",
      "Requirement already satisfied: kiwisolver>=1.0.1 in c:\\users\\jerrychu\\.conda\\envs\\dlcourse\\lib\\site-packages (from matplotlib>=2.1.2->seaborn) (1.2.0)\n",
      "Requirement already satisfied: six>=1.5 in c:\\users\\jerrychu\\.conda\\envs\\dlcourse\\lib\\site-packages (from python-dateutil>=2.7.3->pandas>=0.22.0->seaborn) (1.15.0)\n",
      "Installing collected packages: pytz, pandas, seaborn\n",
      "Successfully installed pandas-1.1.1 pytz-2020.1 seaborn-0.10.1\n"
     ]
    }
   ],
   "source": [
    "!pip install seaborn"
   ]
  },
  {
   "cell_type": "code",
   "execution_count": 19,
   "metadata": {},
   "outputs": [
    {
     "name": "stdout",
     "output_type": "stream",
     "text": [
      "Requirement already satisfied: pandas in c:\\users\\jerrychu\\.conda\\envs\\dlcourse\\lib\\site-packages (1.1.1)\n",
      "Requirement already satisfied: python-dateutil>=2.7.3 in c:\\users\\jerrychu\\.conda\\envs\\dlcourse\\lib\\site-packages (from pandas) (2.8.1)\n",
      "Requirement already satisfied: numpy>=1.15.4 in c:\\users\\jerrychu\\.conda\\envs\\dlcourse\\lib\\site-packages (from pandas) (1.19.1)\n",
      "Requirement already satisfied: pytz>=2017.2 in c:\\users\\jerrychu\\.conda\\envs\\dlcourse\\lib\\site-packages (from pandas) (2020.1)\n",
      "Requirement already satisfied: six>=1.5 in c:\\users\\jerrychu\\.conda\\envs\\dlcourse\\lib\\site-packages (from python-dateutil>=2.7.3->pandas) (1.15.0)\n",
      "Requirement already satisfied: numpy in c:\\users\\jerrychu\\.conda\\envs\\dlcourse\\lib\\site-packages (1.19.1)\n"
     ]
    }
   ],
   "source": [
    "!pip install pandas\n",
    "!pip install numpy"
   ]
  },
  {
   "cell_type": "code",
   "execution_count": 17,
   "metadata": {},
   "outputs": [],
   "source": [
    "import seaborn as sns\n",
    "import matplotlib.pyplot as plt\n",
    "sns.set()"
   ]
  },
  {
   "cell_type": "code",
   "execution_count": 23,
   "metadata": {},
   "outputs": [],
   "source": [
    "import pandas as pd\n",
    "import numpy as np"
   ]
  },
  {
   "cell_type": "code",
   "execution_count": 24,
   "metadata": {},
   "outputs": [
    {
     "data": {
      "text/plain": [
       "list"
      ]
     },
     "execution_count": 24,
     "metadata": {},
     "output_type": "execute_result"
    }
   ],
   "source": [
    "type(tsmc)"
   ]
  },
  {
   "cell_type": "code",
   "execution_count": 31,
   "metadata": {},
   "outputs": [
    {
     "data": {
      "text/plain": [
       "[Data(date=datetime.datetime(2020, 1, 2, 0, 0), capacity=33282120, turnover=11224165450, open=332.5, high=339.0, low=332.5, close=339.0, change=8.0, transaction=17160),\n",
       " Data(date=datetime.datetime(2020, 1, 3, 0, 0), capacity=42023268, turnover=14295651580, open=344.0, high=345.0, low=335.5, close=339.5, change=0.5, transaction=20545),\n",
       " Data(date=datetime.datetime(2020, 1, 6, 0, 0), capacity=45677057, turnover=15210531318, open=333.0, high=334.5, low=332.0, close=332.0, change=-7.5, transaction=22944),\n",
       " Data(date=datetime.datetime(2020, 1, 7, 0, 0), capacity=51746181, turnover=17053282011, open=332.5, high=333.0, low=326.5, close=329.5, change=-2.5, transaction=22362),\n",
       " Data(date=datetime.datetime(2020, 1, 8, 0, 0), capacity=37913748, turnover=12484410088, open=325.0, high=333.0, low=325.0, close=329.5, change=0.0, transaction=18228),\n",
       " Data(date=datetime.datetime(2020, 1, 9, 0, 0), capacity=32397504, turnover=10890847940, open=335.0, high=337.5, low=333.5, close=337.5, change=8.0, transaction=16793),\n",
       " Data(date=datetime.datetime(2020, 1, 10, 0, 0), capacity=27880115, turnover=9432320316, open=340.5, high=341.0, low=336.0, close=339.5, change=2.0, transaction=13296),\n",
       " Data(date=datetime.datetime(2020, 1, 13, 0, 0), capacity=30663332, turnover=10455852739, open=342.0, high=342.0, low=339.0, close=341.5, change=2.0, transaction=13457),\n",
       " Data(date=datetime.datetime(2020, 1, 14, 0, 0), capacity=30368993, turnover=10488360978, open=345.5, high=346.0, low=344.5, close=346.0, change=4.5, transaction=16339),\n",
       " Data(date=datetime.datetime(2020, 1, 15, 0, 0), capacity=54575274, turnover=18590754206, open=345.0, high=345.0, low=337.5, close=340.0, change=-6.0, transaction=20392),\n",
       " Data(date=datetime.datetime(2020, 1, 16, 0, 0), capacity=58217420, turnover=19431133895, open=330.0, high=336.5, low=330.0, close=334.5, change=-5.5, transaction=24721),\n",
       " Data(date=datetime.datetime(2020, 1, 17, 0, 0), capacity=53908097, turnover=17977119406, open=334.0, high=335.5, low=332.0, close=333.0, change=-1.5, transaction=23954),\n",
       " Data(date=datetime.datetime(2020, 1, 20, 0, 0), capacity=35551203, turnover=11865436839, open=334.0, high=335.5, low=333.0, close=333.0, change=0.0, transaction=15095),\n",
       " Data(date=datetime.datetime(2020, 1, 30, 0, 0), capacity=126820049, turnover=40734449874, open=326.0, high=326.0, low=316.5, close=316.5, change=-16.5, transaction=55603),\n",
       " Data(date=datetime.datetime(2020, 1, 31, 0, 0), capacity=62912055, turnover=20205365710, open=323.0, high=323.5, low=319.0, close=320.0, change=3.5, transaction=22639),\n",
       " Data(date=datetime.datetime(2020, 2, 3, 0, 0), capacity=59711849, turnover=18782694826, open=315.0, high=316.5, low=312.0, close=315.0, change=-5.0, transaction=26483),\n",
       " Data(date=datetime.datetime(2020, 2, 4, 0, 0), capacity=52208496, turnover=16882411296, open=319.0, high=326.0, low=318.0, close=325.0, change=10.0, transaction=22587),\n",
       " Data(date=datetime.datetime(2020, 2, 5, 0, 0), capacity=36601453, turnover=11985817083, open=329.0, high=329.5, low=324.5, close=327.5, change=2.5, transaction=16656),\n",
       " Data(date=datetime.datetime(2020, 2, 6, 0, 0), capacity=29659094, turnover=9803038836, open=329.5, high=332.5, low=329.0, close=332.5, change=5.0, transaction=14246),\n",
       " Data(date=datetime.datetime(2020, 2, 7, 0, 0), capacity=30055327, turnover=9869903253, open=330.0, high=330.5, low=326.0, close=328.0, change=-4.5, transaction=13075),\n",
       " Data(date=datetime.datetime(2020, 2, 10, 0, 0), capacity=30814424, turnover=10024967927, open=321.5, high=328.0, low=321.0, close=327.5, change=-0.5, transaction=14825),\n",
       " Data(date=datetime.datetime(2020, 2, 11, 0, 0), capacity=29062935, turnover=9629938182, open=330.5, high=332.5, low=330.0, close=331.5, change=4.0, transaction=12766),\n",
       " Data(date=datetime.datetime(2020, 2, 12, 0, 0), capacity=37612639, turnover=12593082711, open=333.5, high=336.0, low=333.0, close=335.0, change=3.5, transaction=17394),\n",
       " Data(date=datetime.datetime(2020, 2, 13, 0, 0), capacity=23217021, turnover=7805299096, open=338.0, high=338.0, low=335.0, close=335.0, change=0.0, transaction=12563),\n",
       " Data(date=datetime.datetime(2020, 2, 14, 0, 0), capacity=18326683, turnover=6155862838, open=337.0, high=337.0, low=334.5, close=335.0, change=0.0, transaction=7881),\n",
       " Data(date=datetime.datetime(2020, 2, 17, 0, 0), capacity=16145079, turnover=5354339726, open=331.5, high=333.0, low=330.5, close=331.5, change=-3.5, transaction=9747),\n",
       " Data(date=datetime.datetime(2020, 2, 18, 0, 0), capacity=64662604, turnover=20957801150, open=324.5, high=326.5, low=322.0, close=322.0, change=-9.5, transaction=36520),\n",
       " Data(date=datetime.datetime(2020, 2, 19, 0, 0), capacity=48856218, turnover=15881609046, open=322.5, high=327.0, low=322.0, close=326.5, change=4.5, transaction=16003),\n",
       " Data(date=datetime.datetime(2020, 2, 20, 0, 0), capacity=27061736, turnover=8832642641, open=328.0, high=329.0, low=325.0, close=325.5, change=-1.0, transaction=11695),\n",
       " Data(date=datetime.datetime(2020, 2, 21, 0, 0), capacity=22974534, turnover=7463007621, open=325.5, high=326.5, low=323.0, close=325.0, change=-0.5, transaction=9342),\n",
       " Data(date=datetime.datetime(2020, 2, 24, 0, 0), capacity=42946680, turnover=13754512932, open=319.5, high=321.5, low=319.5, close=320.0, change=-5.0, transaction=18902),\n",
       " Data(date=datetime.datetime(2020, 2, 25, 0, 0), capacity=38674011, turnover=12425785349, open=320.0, high=323.5, low=317.5, close=322.0, change=2.0, transaction=17366),\n",
       " Data(date=datetime.datetime(2020, 2, 26, 0, 0), capacity=60768362, turnover=19341695595, open=317.0, high=320.5, low=316.5, close=318.5, change=-3.5, transaction=24310),\n",
       " Data(date=datetime.datetime(2020, 2, 27, 0, 0), capacity=62401927, turnover=19756146876, open=319.0, high=320.0, low=315.0, close=316.0, change=-2.5, transaction=20633),\n",
       " Data(date=datetime.datetime(2020, 3, 2, 0, 0), capacity=86372942, turnover=26864484400, open=308.0, high=317.0, low=308.0, close=311.0, change=-5.0, transaction=35320),\n",
       " Data(date=datetime.datetime(2020, 3, 3, 0, 0), capacity=55169411, turnover=17534766696, open=318.5, high=320.0, low=316.0, close=317.5, change=6.5, transaction=20713),\n",
       " Data(date=datetime.datetime(2020, 3, 4, 0, 0), capacity=44745146, turnover=14304795666, open=322.0, high=322.0, low=317.0, close=320.5, change=3.0, transaction=16118),\n",
       " Data(date=datetime.datetime(2020, 3, 5, 0, 0), capacity=38223525, turnover=12392618100, open=325.0, high=326.0, low=323.0, close=323.0, change=2.5, transaction=15107),\n",
       " Data(date=datetime.datetime(2020, 3, 6, 0, 0), capacity=52807760, turnover=16733485610, open=320.0, high=320.5, low=315.0, close=315.0, change=-8.0, transaction=24175),\n",
       " Data(date=datetime.datetime(2020, 3, 9, 0, 0), capacity=88633277, turnover=27236002054, open=307.5, high=310.0, low=305.5, close=305.5, change=-9.5, transaction=44882),\n",
       " Data(date=datetime.datetime(2020, 3, 10, 0, 0), capacity=74869130, turnover=22727941511, open=301.5, high=309.0, low=301.0, close=307.0, change=1.5, transaction=30268),\n",
       " Data(date=datetime.datetime(2020, 3, 11, 0, 0), capacity=64923710, turnover=19913151529, open=309.0, high=310.5, low=302.0, close=302.0, change=-5.0, transaction=27176),\n",
       " Data(date=datetime.datetime(2020, 3, 12, 0, 0), capacity=114173351, turnover=33544278206, open=299.0, high=299.0, low=287.0, close=294.0, change=-8.0, transaction=56989),\n",
       " Data(date=datetime.datetime(2020, 3, 13, 0, 0), capacity=151268148, turnover=42448997546, open=275.0, high=294.0, low=272.5, close=290.0, change=-4.0, transaction=71990),\n",
       " Data(date=datetime.datetime(2020, 3, 16, 0, 0), capacity=103933228, turnover=29343288916, open=285.0, high=291.0, low=275.5, close=276.5, change=-13.5, transaction=51292),\n",
       " Data(date=datetime.datetime(2020, 3, 17, 0, 0), capacity=122409651, turnover=32936712540, open=265.0, high=276.5, low=265.0, close=268.0, change=-8.5, transaction=57123),\n",
       " Data(date=datetime.datetime(2020, 3, 18, 0, 0), capacity=118620643, turnover=31555231792, open=269.5, high=272.5, low=260.0, close=260.0, change=-8.0, transaction=53985),\n",
       " Data(date=datetime.datetime(2020, 3, 19, 0, 0), capacity=160811697, turnover=39559889553, open=252.0, high=253.0, low=235.5, close=248.0, change=0.0, transaction=77302),\n",
       " Data(date=datetime.datetime(2020, 3, 20, 0, 0), capacity=159179726, turnover=42110816042, open=258.5, high=270.0, low=256.0, close=270.0, change=22.0, transaction=69829),\n",
       " Data(date=datetime.datetime(2020, 3, 23, 0, 0), capacity=76963709, turnover=19851467203, open=257.0, high=262.5, low=252.0, close=255.0, change=-15.0, transaction=41621),\n",
       " Data(date=datetime.datetime(2020, 3, 24, 0, 0), capacity=82377933, turnover=22207033614, open=268.0, high=274.0, low=266.0, close=267.5, change=12.5, transaction=41077),\n",
       " Data(date=datetime.datetime(2020, 3, 25, 0, 0), capacity=80514199, turnover=22368633590, open=276.5, high=280.0, low=274.0, close=277.0, change=9.5, transaction=40932),\n",
       " Data(date=datetime.datetime(2020, 3, 26, 0, 0), capacity=54189633, turnover=15108299935, open=279.5, high=280.0, low=275.5, close=280.0, change=3.0, transaction=27648),\n",
       " Data(date=datetime.datetime(2020, 3, 27, 0, 0), capacity=69320306, turnover=19324060590, open=284.0, high=286.0, low=273.0, close=273.0, change=-7.0, transaction=36025),\n",
       " Data(date=datetime.datetime(2020, 3, 30, 0, 0), capacity=53403956, turnover=14205364184, open=263.5, high=269.0, low=262.5, close=267.5, change=-5.5, transaction=27779),\n",
       " Data(date=datetime.datetime(2020, 3, 31, 0, 0), capacity=53901923, turnover=14712557472, open=273.0, high=274.0, low=269.5, close=274.0, change=6.5, transaction=20343),\n",
       " Data(date=datetime.datetime(2020, 4, 1, 0, 0), capacity=47572034, turnover=13022612818, open=276.5, high=276.5, low=271.5, close=271.5, change=-2.5, transaction=19580),\n",
       " Data(date=datetime.datetime(2020, 4, 6, 0, 0), capacity=59712754, turnover=16324198154, open=273.0, high=275.5, low=270.0, close=275.5, change=4.0, transaction=19971),\n",
       " Data(date=datetime.datetime(2020, 4, 7, 0, 0), capacity=48887346, turnover=13817936851, open=283.5, high=284.0, low=280.5, close=283.0, change=7.5, transaction=24281),\n",
       " Data(date=datetime.datetime(2020, 4, 8, 0, 0), capacity=38698826, turnover=11016972354, open=285.0, high=285.5, low=283.0, close=285.0, change=2.0, transaction=19126),\n",
       " Data(date=datetime.datetime(2020, 4, 9, 0, 0), capacity=29276430, turnover=8346209654, open=287.5, high=288.0, low=282.5, close=283.0, change=-2.0, transaction=15271),\n",
       " Data(date=datetime.datetime(2020, 4, 10, 0, 0), capacity=28206858, turnover=7894277586, open=280.0, high=282.0, low=279.0, close=279.5, change=-3.5, transaction=15833),\n",
       " Data(date=datetime.datetime(2020, 4, 13, 0, 0), capacity=22196596, turnover=6202532380, open=278.5, high=281.5, low=278.5, close=278.5, change=-1.0, transaction=12809),\n",
       " Data(date=datetime.datetime(2020, 4, 14, 0, 0), capacity=50196688, turnover=14268689661, open=281.0, high=285.5, low=280.0, close=285.0, change=6.5, transaction=22214),\n",
       " Data(date=datetime.datetime(2020, 4, 15, 0, 0), capacity=58561434, turnover=16819851630, open=287.0, high=288.5, low=286.0, close=287.5, change=2.5, transaction=25696),\n",
       " Data(date=datetime.datetime(2020, 4, 16, 0, 0), capacity=48257280, turnover=13813721932, open=283.0, high=288.5, low=283.0, close=286.5, change=-1.0, transaction=19084),\n",
       " Data(date=datetime.datetime(2020, 4, 17, 0, 0), capacity=117447201, turnover=35719172728, open=303.5, high=308.5, low=300.5, close=306.5, change=20.0, transaction=60873),\n",
       " Data(date=datetime.datetime(2020, 4, 20, 0, 0), capacity=44586860, turnover=13605802989, open=308.0, high=309.0, low=302.5, close=304.0, change=-2.5, transaction=21791),\n",
       " Data(date=datetime.datetime(2020, 4, 21, 0, 0), capacity=61949357, turnover=18417786171, open=300.5, high=301.5, low=293.5, close=295.0, change=-9.0, transaction=39043),\n",
       " Data(date=datetime.datetime(2020, 4, 22, 0, 0), capacity=43568580, turnover=12746170556, open=294.5, high=295.0, low=290.5, close=294.0, change=-1.0, transaction=25176),\n",
       " Data(date=datetime.datetime(2020, 4, 23, 0, 0), capacity=39977278, turnover=11864085990, open=300.0, high=300.0, low=294.0, close=295.5, change=1.5, transaction=18541),\n",
       " Data(date=datetime.datetime(2020, 4, 24, 0, 0), capacity=26465090, turnover=7799075756, open=295.5, high=297.0, low=294.0, close=294.0, change=-1.5, transaction=13661),\n",
       " Data(date=datetime.datetime(2020, 4, 27, 0, 0), capacity=38493406, turnover=11461378300, open=298.0, high=298.5, low=296.0, close=298.0, change=4.0, transaction=15916),\n",
       " Data(date=datetime.datetime(2020, 4, 28, 0, 0), capacity=37621165, turnover=11134919970, open=298.5, high=298.5, low=294.5, close=296.5, change=-1.5, transaction=18214),\n",
       " Data(date=datetime.datetime(2020, 4, 29, 0, 0), capacity=46253301, turnover=13861245296, open=299.0, high=301.5, low=298.0, close=299.0, change=2.5, transaction=21633),\n",
       " Data(date=datetime.datetime(2020, 4, 30, 0, 0), capacity=58439085, turnover=17753466901, open=302.0, high=305.0, low=301.5, close=304.5, change=5.5, transaction=26219),\n",
       " Data(date=datetime.datetime(2020, 5, 4, 0, 0), capacity=72252861, turnover=21341931218, open=294.5, high=296.5, low=294.0, close=295.0, change=-9.5, transaction=37736),\n",
       " Data(date=datetime.datetime(2020, 5, 5, 0, 0), capacity=23988405, turnover=7104774785, open=296.5, high=298.0, low=295.0, close=295.5, change=0.5, transaction=13569),\n",
       " Data(date=datetime.datetime(2020, 5, 6, 0, 0), capacity=35704479, turnover=10524838077, open=294.5, high=296.0, low=292.5, close=296.0, change=0.5, transaction=16046),\n",
       " Data(date=datetime.datetime(2020, 5, 7, 0, 0), capacity=28017198, turnover=8321170642, open=294.5, high=299.0, low=294.5, close=297.5, change=1.5, transaction=13149),\n",
       " Data(date=datetime.datetime(2020, 5, 8, 0, 0), capacity=35613893, turnover=10619091212, open=300.0, high=300.0, low=296.0, close=297.5, change=0.0, transaction=14345),\n",
       " Data(date=datetime.datetime(2020, 5, 11, 0, 0), capacity=32379019, turnover=9729431840, open=300.0, high=301.5, low=298.5, close=301.0, change=3.5, transaction=14920),\n",
       " Data(date=datetime.datetime(2020, 5, 12, 0, 0), capacity=52494788, turnover=15553012596, open=297.5, high=298.5, low=295.0, close=295.0, change=-6.0, transaction=29073),\n",
       " Data(date=datetime.datetime(2020, 5, 13, 0, 0), capacity=46158418, turnover=13619538824, open=293.0, high=297.0, low=292.5, close=297.0, change=2.0, transaction=14555),\n",
       " Data(date=datetime.datetime(2020, 5, 14, 0, 0), capacity=34480948, turnover=10119787160, open=293.0, high=295.0, low=292.5, close=293.0, change=-4.0, transaction=21482),\n",
       " Data(date=datetime.datetime(2020, 5, 15, 0, 0), capacity=44304804, turnover=13170466660, open=297.5, high=298.5, low=294.5, close=298.0, change=5.0, transaction=20071),\n",
       " Data(date=datetime.datetime(2020, 5, 18, 0, 0), capacity=96872065, turnover=28216346996, open=291.0, high=293.5, low=290.0, close=290.0, change=-8.0, transaction=49640),\n",
       " Data(date=datetime.datetime(2020, 5, 19, 0, 0), capacity=53083214, turnover=15527338138, open=294.0, high=294.0, low=291.5, close=291.5, change=1.5, transaction=22033),\n",
       " Data(date=datetime.datetime(2020, 5, 20, 0, 0), capacity=36789994, turnover=10772280152, open=293.0, high=294.0, low=291.0, close=294.0, change=2.5, transaction=16906),\n",
       " Data(date=datetime.datetime(2020, 5, 21, 0, 0), capacity=36299468, turnover=10782482962, open=296.0, high=298.0, low=295.0, close=297.5, change=3.5, transaction=17064),\n",
       " Data(date=datetime.datetime(2020, 5, 22, 0, 0), capacity=41138923, turnover=12025339565, open=294.5, high=295.0, low=291.0, close=292.0, change=-5.5, transaction=22345),\n",
       " Data(date=datetime.datetime(2020, 5, 25, 0, 0), capacity=32942223, turnover=9568008388, open=290.5, high=293.0, low=288.5, close=292.0, change=0.0, transaction=14585),\n",
       " Data(date=datetime.datetime(2020, 5, 26, 0, 0), capacity=35817481, turnover=10609868646, open=295.0, high=297.5, low=293.5, close=295.5, change=3.5, transaction=19524),\n",
       " Data(date=datetime.datetime(2020, 5, 27, 0, 0), capacity=23375959, turnover=6932934823, open=297.0, high=298.0, low=295.5, close=296.5, change=1.0, transaction=11244),\n",
       " Data(date=datetime.datetime(2020, 5, 28, 0, 0), capacity=32395568, turnover=9575118830, open=298.5, high=298.5, low=293.0, close=294.0, change=-2.5, transaction=13208),\n",
       " Data(date=datetime.datetime(2020, 5, 29, 0, 0), capacity=96611181, turnover=28172174547, open=292.0, high=292.5, low=290.0, close=292.0, change=-2.0, transaction=21037),\n",
       " Data(date=datetime.datetime(2020, 6, 1, 0, 0), capacity=37936214, turnover=11205227094, open=294.0, high=296.5, low=293.5, close=295.5, change=3.5, transaction=15502),\n",
       " Data(date=datetime.datetime(2020, 6, 2, 0, 0), capacity=26663587, turnover=7908476089, open=296.0, high=297.5, low=296.0, close=296.5, change=1.0, transaction=9743),\n",
       " Data(date=datetime.datetime(2020, 6, 3, 0, 0), capacity=67894337, turnover=20354971677, open=300.0, high=301.0, low=298.0, close=301.0, change=4.5, transaction=33062),\n",
       " Data(date=datetime.datetime(2020, 6, 4, 0, 0), capacity=47225322, turnover=14414983532, open=305.0, high=306.0, low=304.0, close=306.0, change=5.0, transaction=24482),\n",
       " Data(date=datetime.datetime(2020, 6, 5, 0, 0), capacity=44077262, turnover=13655618646, open=308.5, high=312.0, low=308.0, close=311.5, change=5.5, transaction=24096),\n",
       " Data(date=datetime.datetime(2020, 6, 8, 0, 0), capacity=52042921, turnover=16500836851, open=316.0, high=319.0, low=315.0, close=318.0, change=6.5, transaction=28581),\n",
       " Data(date=datetime.datetime(2020, 6, 9, 0, 0), capacity=37068082, turnover=11746874522, open=316.5, high=319.0, low=314.0, close=319.0, change=1.0, transaction=19981),\n",
       " Data(date=datetime.datetime(2020, 6, 10, 0, 0), capacity=42207259, turnover=13566733306, open=319.0, high=324.0, low=318.0, close=322.5, change=3.5, transaction=22670),\n",
       " Data(date=datetime.datetime(2020, 6, 11, 0, 0), capacity=50612255, turnover=16340456218, open=325.5, high=327.0, low=318.5, close=320.5, change=-2.0, transaction=27061),\n",
       " Data(date=datetime.datetime(2020, 6, 12, 0, 0), capacity=46970918, turnover=14811252573, open=313.0, high=317.5, low=312.5, close=316.0, change=-4.5, transaction=25263),\n",
       " Data(date=datetime.datetime(2020, 6, 15, 0, 0), capacity=51032404, turnover=15955585136, open=316.0, high=317.5, low=308.5, close=309.5, change=-6.5, transaction=29255),\n",
       " Data(date=datetime.datetime(2020, 6, 16, 0, 0), capacity=40725216, turnover=12823172756, open=317.0, high=317.0, low=314.0, close=315.0, change=5.5, transaction=19377),\n",
       " Data(date=datetime.datetime(2020, 6, 17, 0, 0), capacity=34692968, turnover=10922017056, open=316.5, high=317.0, low=313.5, close=315.0, change=0.0, transaction=16218),\n",
       " Data(date=datetime.datetime(2020, 6, 18, 0, 0), capacity=35443474, turnover=11123108346, open=314.5, high=315.0, low=313.0, close=314.5, change=0.0, transaction=11897),\n",
       " Data(date=datetime.datetime(2020, 6, 19, 0, 0), capacity=48130280, turnover=15102300186, open=314.0, high=314.5, low=312.0, close=314.5, change=0.0, transaction=12915),\n",
       " Data(date=datetime.datetime(2020, 6, 22, 0, 0), capacity=37374616, turnover=11722688924, open=314.5, high=316.5, low=312.0, close=312.0, change=-2.5, transaction=18836),\n",
       " Data(date=datetime.datetime(2020, 6, 23, 0, 0), capacity=41300084, turnover=12981121544, open=316.0, high=316.5, low=312.5, close=315.0, change=3.0, transaction=15959),\n",
       " Data(date=datetime.datetime(2020, 6, 24, 0, 0), capacity=55464024, turnover=17641164202, open=319.0, high=320.0, low=316.0, close=317.5, change=2.5, transaction=27086),\n",
       " Data(date=datetime.datetime(2020, 6, 29, 0, 0), capacity=56672892, turnover=17695228688, open=314.0, high=315.0, low=310.0, close=312.0, change=-5.5, transaction=30558),\n",
       " Data(date=datetime.datetime(2020, 6, 30, 0, 0), capacity=49241860, turnover=15386428040, open=313.5, high=314.0, low=311.0, close=313.0, change=1.0, transaction=16165),\n",
       " Data(date=datetime.datetime(2020, 7, 1, 0, 0), capacity=29685342, turnover=9400765756, open=315.0, high=318.0, low=314.0, close=317.5, change=4.5, transaction=15617),\n",
       " Data(date=datetime.datetime(2020, 7, 2, 0, 0), capacity=37789178, turnover=12119073560, open=319.0, high=322.0, low=318.0, close=322.0, change=4.5, transaction=18355),\n",
       " Data(date=datetime.datetime(2020, 7, 3, 0, 0), capacity=55656987, turnover=18280314743, open=327.0, high=330.5, low=326.5, close=329.5, change=7.5, transaction=30235),\n",
       " Data(date=datetime.datetime(2020, 7, 6, 0, 0), capacity=57256220, turnover=19200718243, open=332.5, high=338.0, low=332.0, close=338.0, change=8.5, transaction=31866),\n",
       " Data(date=datetime.datetime(2020, 7, 7, 0, 0), capacity=59046323, turnover=20143258406, open=343.5, high=346.0, low=338.0, close=338.5, change=0.5, transaction=32076),\n",
       " Data(date=datetime.datetime(2020, 7, 8, 0, 0), capacity=33813218, turnover=11522915649, open=337.5, high=342.5, low=337.5, close=341.0, change=2.5, transaction=16673),\n",
       " Data(date=datetime.datetime(2020, 7, 9, 0, 0), capacity=37410376, turnover=12912747970, open=346.0, high=347.0, low=343.0, close=345.0, change=4.0, transaction=20205),\n",
       " Data(date=datetime.datetime(2020, 7, 10, 0, 0), capacity=60902108, turnover=21298923681, open=352.5, high=353.0, low=345.5, close=348.5, change=3.5, transaction=32227),\n",
       " Data(date=datetime.datetime(2020, 7, 13, 0, 0), capacity=49459523, turnover=17425372488, open=351.0, high=354.5, low=350.5, close=354.5, change=6.0, transaction=23217),\n",
       " Data(date=datetime.datetime(2020, 7, 14, 0, 0), capacity=63030150, turnover=22602878292, open=355.0, high=364.0, low=354.5, close=363.5, change=9.0, transaction=30996),\n",
       " Data(date=datetime.datetime(2020, 7, 15, 0, 0), capacity=75105362, turnover=27486789803, open=366.0, high=370.0, low=361.0, close=363.0, change=-0.5, transaction=37607),\n",
       " Data(date=datetime.datetime(2020, 7, 16, 0, 0), capacity=68582512, turnover=24506038172, open=359.0, high=361.0, low=353.5, close=357.5, change=-5.5, transaction=35598),\n",
       " Data(date=datetime.datetime(2020, 7, 17, 0, 0), capacity=66403485, turnover=24244495853, open=361.0, high=369.0, low=360.0, close=367.0, change=9.5, transaction=36729),\n",
       " Data(date=datetime.datetime(2020, 7, 20, 0, 0), capacity=44940238, turnover=16487970674, open=370.0, high=370.0, low=362.5, close=366.0, change=-1.0, transaction=23335),\n",
       " Data(date=datetime.datetime(2020, 7, 21, 0, 0), capacity=64440128, turnover=24491627162, open=372.5, high=387.0, low=371.5, close=383.0, change=17.0, transaction=40266),\n",
       " Data(date=datetime.datetime(2020, 7, 22, 0, 0), capacity=43959670, turnover=16844625030, open=381.0, high=386.0, low=379.0, close=384.0, change=1.0, transaction=25530),\n",
       " Data(date=datetime.datetime(2020, 7, 23, 0, 0), capacity=45397282, turnover=17302637512, open=382.0, high=383.0, low=379.0, close=381.5, change=-2.5, transaction=22916),\n",
       " Data(date=datetime.datetime(2020, 7, 24, 0, 0), capacity=90988734, turnover=35368857726, open=390.0, high=395.0, low=382.0, close=386.0, change=4.5, transaction=45099),\n",
       " Data(date=datetime.datetime(2020, 7, 27, 0, 0), capacity=103315640, turnover=43637877952, open=420.5, high=424.5, low=416.5, close=424.5, change=38.5, transaction=49294),\n",
       " Data(date=datetime.datetime(2020, 7, 28, 0, 0), capacity=172157746, turnover=77804668620, open=464.0, high=466.5, low=428.5, close=435.0, change=10.5, transaction=92239),\n",
       " Data(date=datetime.datetime(2020, 7, 29, 0, 0), capacity=88641166, turnover=37649278004, open=428.0, high=431.5, low=419.5, close=422.0, change=-13.0, transaction=53111),\n",
       " Data(date=datetime.datetime(2020, 7, 30, 0, 0), capacity=69936949, turnover=30329225735, open=436.5, high=441.0, low=428.5, close=434.0, change=12.0, transaction=36627),\n",
       " Data(date=datetime.datetime(2020, 7, 31, 0, 0), capacity=50484674, turnover=21567922126, open=426.0, high=432.0, low=425.5, close=425.5, change=-8.5, transaction=27653),\n",
       " Data(date=datetime.datetime(2020, 8, 3, 0, 0), capacity=77288571, turnover=32339719000, open=420.5, high=424.0, low=415.0, close=416.0, change=-9.5, transaction=43360),\n",
       " Data(date=datetime.datetime(2020, 8, 4, 0, 0), capacity=41697445, turnover=17600499460, open=421.5, high=425.5, low=418.5, close=425.5, change=9.5, transaction=22250),\n",
       " Data(date=datetime.datetime(2020, 8, 5, 0, 0), capacity=47460834, turnover=20356413204, open=430.5, high=433.5, low=426.0, close=429.0, change=3.5, transaction=24715),\n",
       " Data(date=datetime.datetime(2020, 8, 6, 0, 0), capacity=43443627, turnover=18877761758, open=437.5, high=438.0, low=431.0, close=435.0, change=6.0, transaction=22414),\n",
       " Data(date=datetime.datetime(2020, 8, 7, 0, 0), capacity=37611388, turnover=16218241255, open=433.5, high=434.0, low=428.0, close=433.0, change=-2.0, transaction=19739),\n",
       " Data(date=datetime.datetime(2020, 8, 10, 0, 0), capacity=36067500, turnover=15674843876, open=427.5, high=437.5, low=427.5, close=435.5, change=2.5, transaction=21342),\n",
       " Data(date=datetime.datetime(2020, 8, 11, 0, 0), capacity=34545313, turnover=14918017903, open=432.0, high=435.0, low=429.0, close=429.0, change=-6.5, transaction=20297),\n",
       " Data(date=datetime.datetime(2020, 8, 12, 0, 0), capacity=53980474, turnover=22721731886, open=422.0, high=423.5, low=419.0, close=419.0, change=-10.0, transaction=32761),\n",
       " Data(date=datetime.datetime(2020, 8, 13, 0, 0), capacity=45669335, turnover=19514322038, open=428.0, high=429.0, low=424.5, close=429.0, change=10.0, transaction=21499),\n",
       " Data(date=datetime.datetime(2020, 8, 14, 0, 0), capacity=24259947, turnover=10332447763, open=424.0, high=428.0, low=423.0, close=427.0, change=-2.0, transaction=12642),\n",
       " Data(date=datetime.datetime(2020, 8, 17, 0, 0), capacity=34607731, turnover=14930831216, open=427.0, high=435.0, low=425.5, close=435.0, change=8.0, transaction=20823),\n",
       " Data(date=datetime.datetime(2020, 8, 18, 0, 0), capacity=45504160, turnover=19824413320, open=440.0, high=440.5, low=432.0, close=433.0, change=-2.0, transaction=21119),\n",
       " Data(date=datetime.datetime(2020, 8, 19, 0, 0), capacity=31486800, turnover=13574970200, open=436.0, high=436.5, low=427.5, close=427.5, change=-5.5, transaction=18279),\n",
       " Data(date=datetime.datetime(2020, 8, 20, 0, 0), capacity=75155235, turnover=31353886930, open=427.0, high=427.5, low=401.0, close=415.0, change=-12.5, transaction=45670),\n",
       " Data(date=datetime.datetime(2020, 8, 21, 0, 0), capacity=41956467, turnover=17770610338, open=421.5, high=427.0, low=420.0, close=424.5, change=9.5, transaction=23059),\n",
       " Data(date=datetime.datetime(2020, 8, 24, 0, 0), capacity=49199406, turnover=21139093710, open=427.5, high=434.5, low=425.0, close=428.0, change=3.5, transaction=24672),\n",
       " Data(date=datetime.datetime(2020, 8, 25, 0, 0), capacity=37024899, turnover=16076146369, open=433.5, high=436.0, low=430.5, close=434.5, change=6.5, transaction=22035)]"
      ]
     },
     "execution_count": 31,
     "metadata": {},
     "output_type": "execute_result"
    }
   ],
   "source": [
    "tsmc"
   ]
  },
  {
   "cell_type": "code",
   "execution_count": 46,
   "metadata": {},
   "outputs": [],
   "source": [
    "df = pd.DataFrame(tsmc)"
   ]
  },
  {
   "cell_type": "code",
   "execution_count": 47,
   "metadata": {},
   "outputs": [
    {
     "data": {
      "text/plain": [
       "0     2020-01-02\n",
       "1     2020-01-03\n",
       "2     2020-01-06\n",
       "3     2020-01-07\n",
       "4     2020-01-08\n",
       "         ...    \n",
       "151   2020-08-19\n",
       "152   2020-08-20\n",
       "153   2020-08-21\n",
       "154   2020-08-24\n",
       "155   2020-08-25\n",
       "Name: date, Length: 156, dtype: datetime64[ns]"
      ]
     },
     "execution_count": 47,
     "metadata": {},
     "output_type": "execute_result"
    }
   ],
   "source": [
    "df['date']"
   ]
  },
  {
   "cell_type": "code",
   "execution_count": 48,
   "metadata": {},
   "outputs": [],
   "source": [
    "df.set_index(df[\"date\"],inplace=True)"
   ]
  },
  {
   "cell_type": "code",
   "execution_count": 49,
   "metadata": {},
   "outputs": [
    {
     "data": {
      "text/html": [
       "<div>\n",
       "<style scoped>\n",
       "    .dataframe tbody tr th:only-of-type {\n",
       "        vertical-align: middle;\n",
       "    }\n",
       "\n",
       "    .dataframe tbody tr th {\n",
       "        vertical-align: top;\n",
       "    }\n",
       "\n",
       "    .dataframe thead th {\n",
       "        text-align: right;\n",
       "    }\n",
       "</style>\n",
       "<table border=\"1\" class=\"dataframe\">\n",
       "  <thead>\n",
       "    <tr style=\"text-align: right;\">\n",
       "      <th></th>\n",
       "      <th>date</th>\n",
       "      <th>capacity</th>\n",
       "      <th>turnover</th>\n",
       "      <th>open</th>\n",
       "      <th>high</th>\n",
       "      <th>low</th>\n",
       "      <th>close</th>\n",
       "      <th>change</th>\n",
       "      <th>transaction</th>\n",
       "    </tr>\n",
       "    <tr>\n",
       "      <th>date</th>\n",
       "      <th></th>\n",
       "      <th></th>\n",
       "      <th></th>\n",
       "      <th></th>\n",
       "      <th></th>\n",
       "      <th></th>\n",
       "      <th></th>\n",
       "      <th></th>\n",
       "      <th></th>\n",
       "    </tr>\n",
       "  </thead>\n",
       "  <tbody>\n",
       "    <tr>\n",
       "      <th>2020-01-02</th>\n",
       "      <td>2020-01-02</td>\n",
       "      <td>33282120</td>\n",
       "      <td>11224165450</td>\n",
       "      <td>332.5</td>\n",
       "      <td>339.0</td>\n",
       "      <td>332.5</td>\n",
       "      <td>339.0</td>\n",
       "      <td>8.0</td>\n",
       "      <td>17160</td>\n",
       "    </tr>\n",
       "    <tr>\n",
       "      <th>2020-01-03</th>\n",
       "      <td>2020-01-03</td>\n",
       "      <td>42023268</td>\n",
       "      <td>14295651580</td>\n",
       "      <td>344.0</td>\n",
       "      <td>345.0</td>\n",
       "      <td>335.5</td>\n",
       "      <td>339.5</td>\n",
       "      <td>0.5</td>\n",
       "      <td>20545</td>\n",
       "    </tr>\n",
       "    <tr>\n",
       "      <th>2020-01-06</th>\n",
       "      <td>2020-01-06</td>\n",
       "      <td>45677057</td>\n",
       "      <td>15210531318</td>\n",
       "      <td>333.0</td>\n",
       "      <td>334.5</td>\n",
       "      <td>332.0</td>\n",
       "      <td>332.0</td>\n",
       "      <td>-7.5</td>\n",
       "      <td>22944</td>\n",
       "    </tr>\n",
       "    <tr>\n",
       "      <th>2020-01-07</th>\n",
       "      <td>2020-01-07</td>\n",
       "      <td>51746181</td>\n",
       "      <td>17053282011</td>\n",
       "      <td>332.5</td>\n",
       "      <td>333.0</td>\n",
       "      <td>326.5</td>\n",
       "      <td>329.5</td>\n",
       "      <td>-2.5</td>\n",
       "      <td>22362</td>\n",
       "    </tr>\n",
       "    <tr>\n",
       "      <th>2020-01-08</th>\n",
       "      <td>2020-01-08</td>\n",
       "      <td>37913748</td>\n",
       "      <td>12484410088</td>\n",
       "      <td>325.0</td>\n",
       "      <td>333.0</td>\n",
       "      <td>325.0</td>\n",
       "      <td>329.5</td>\n",
       "      <td>0.0</td>\n",
       "      <td>18228</td>\n",
       "    </tr>\n",
       "    <tr>\n",
       "      <th>...</th>\n",
       "      <td>...</td>\n",
       "      <td>...</td>\n",
       "      <td>...</td>\n",
       "      <td>...</td>\n",
       "      <td>...</td>\n",
       "      <td>...</td>\n",
       "      <td>...</td>\n",
       "      <td>...</td>\n",
       "      <td>...</td>\n",
       "    </tr>\n",
       "    <tr>\n",
       "      <th>2020-08-19</th>\n",
       "      <td>2020-08-19</td>\n",
       "      <td>31486800</td>\n",
       "      <td>13574970200</td>\n",
       "      <td>436.0</td>\n",
       "      <td>436.5</td>\n",
       "      <td>427.5</td>\n",
       "      <td>427.5</td>\n",
       "      <td>-5.5</td>\n",
       "      <td>18279</td>\n",
       "    </tr>\n",
       "    <tr>\n",
       "      <th>2020-08-20</th>\n",
       "      <td>2020-08-20</td>\n",
       "      <td>75155235</td>\n",
       "      <td>31353886930</td>\n",
       "      <td>427.0</td>\n",
       "      <td>427.5</td>\n",
       "      <td>401.0</td>\n",
       "      <td>415.0</td>\n",
       "      <td>-12.5</td>\n",
       "      <td>45670</td>\n",
       "    </tr>\n",
       "    <tr>\n",
       "      <th>2020-08-21</th>\n",
       "      <td>2020-08-21</td>\n",
       "      <td>41956467</td>\n",
       "      <td>17770610338</td>\n",
       "      <td>421.5</td>\n",
       "      <td>427.0</td>\n",
       "      <td>420.0</td>\n",
       "      <td>424.5</td>\n",
       "      <td>9.5</td>\n",
       "      <td>23059</td>\n",
       "    </tr>\n",
       "    <tr>\n",
       "      <th>2020-08-24</th>\n",
       "      <td>2020-08-24</td>\n",
       "      <td>49199406</td>\n",
       "      <td>21139093710</td>\n",
       "      <td>427.5</td>\n",
       "      <td>434.5</td>\n",
       "      <td>425.0</td>\n",
       "      <td>428.0</td>\n",
       "      <td>3.5</td>\n",
       "      <td>24672</td>\n",
       "    </tr>\n",
       "    <tr>\n",
       "      <th>2020-08-25</th>\n",
       "      <td>2020-08-25</td>\n",
       "      <td>37024899</td>\n",
       "      <td>16076146369</td>\n",
       "      <td>433.5</td>\n",
       "      <td>436.0</td>\n",
       "      <td>430.5</td>\n",
       "      <td>434.5</td>\n",
       "      <td>6.5</td>\n",
       "      <td>22035</td>\n",
       "    </tr>\n",
       "  </tbody>\n",
       "</table>\n",
       "<p>156 rows × 9 columns</p>\n",
       "</div>"
      ],
      "text/plain": [
       "                 date  capacity     turnover   open   high    low  close  \\\n",
       "date                                                                       \n",
       "2020-01-02 2020-01-02  33282120  11224165450  332.5  339.0  332.5  339.0   \n",
       "2020-01-03 2020-01-03  42023268  14295651580  344.0  345.0  335.5  339.5   \n",
       "2020-01-06 2020-01-06  45677057  15210531318  333.0  334.5  332.0  332.0   \n",
       "2020-01-07 2020-01-07  51746181  17053282011  332.5  333.0  326.5  329.5   \n",
       "2020-01-08 2020-01-08  37913748  12484410088  325.0  333.0  325.0  329.5   \n",
       "...               ...       ...          ...    ...    ...    ...    ...   \n",
       "2020-08-19 2020-08-19  31486800  13574970200  436.0  436.5  427.5  427.5   \n",
       "2020-08-20 2020-08-20  75155235  31353886930  427.0  427.5  401.0  415.0   \n",
       "2020-08-21 2020-08-21  41956467  17770610338  421.5  427.0  420.0  424.5   \n",
       "2020-08-24 2020-08-24  49199406  21139093710  427.5  434.5  425.0  428.0   \n",
       "2020-08-25 2020-08-25  37024899  16076146369  433.5  436.0  430.5  434.5   \n",
       "\n",
       "            change  transaction  \n",
       "date                             \n",
       "2020-01-02     8.0        17160  \n",
       "2020-01-03     0.5        20545  \n",
       "2020-01-06    -7.5        22944  \n",
       "2020-01-07    -2.5        22362  \n",
       "2020-01-08     0.0        18228  \n",
       "...            ...          ...  \n",
       "2020-08-19    -5.5        18279  \n",
       "2020-08-20   -12.5        45670  \n",
       "2020-08-21     9.5        23059  \n",
       "2020-08-24     3.5        24672  \n",
       "2020-08-25     6.5        22035  \n",
       "\n",
       "[156 rows x 9 columns]"
      ]
     },
     "execution_count": 49,
     "metadata": {},
     "output_type": "execute_result"
    }
   ],
   "source": [
    "df"
   ]
  },
  {
   "cell_type": "code",
   "execution_count": null,
   "metadata": {},
   "outputs": [],
   "source": []
  }
 ],
 "metadata": {
  "kernelspec": {
   "display_name": "Python 3",
   "language": "python",
   "name": "python3"
  },
  "language_info": {
   "codemirror_mode": {
    "name": "ipython",
    "version": 3
   },
   "file_extension": ".py",
   "mimetype": "text/x-python",
   "name": "python",
   "nbconvert_exporter": "python",
   "pygments_lexer": "ipython3",
   "version": "3.7.7"
  }
 },
 "nbformat": 4,
 "nbformat_minor": 4
}
